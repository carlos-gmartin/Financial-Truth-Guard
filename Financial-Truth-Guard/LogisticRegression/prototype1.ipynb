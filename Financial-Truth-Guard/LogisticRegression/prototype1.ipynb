{
 "cells": [
  {
   "cell_type": "code",
   "execution_count": 1,
   "id": "6f75c53d-6346-4492-8d6a-c1f73370e549",
   "metadata": {},
   "outputs": [
    {
     "name": "stderr",
     "output_type": "stream",
     "text": [
      "[nltk_data] Downloading package stopwords to /home/carlos-\n",
      "[nltk_data]     arch-v2/nltk_data...\n",
      "[nltk_data]   Package stopwords is already up-to-date!\n",
      "[nltk_data] Downloading package wordnet to /home/carlos-\n",
      "[nltk_data]     arch-v2/nltk_data...\n",
      "[nltk_data]   Package wordnet is already up-to-date!\n"
     ]
    }
   ],
   "source": [
    "import pandas as pd\n",
    "from sklearn.model_selection import train_test_split\n",
    "from sklearn.feature_extraction.text import TfidfVectorizer\n",
    "from sklearn.linear_model import LogisticRegression\n",
    "from sklearn.metrics import accuracy_score, classification_report\n",
    "from sklearn.preprocessing import LabelEncoder\n",
    "from nltk.corpus import stopwords\n",
    "from nltk.stem import WordNetLemmatizer\n",
    "import nltk\n",
    "import matplotlib.pyplot as plt\n",
    "\n",
    "# Download stopwords resource\n",
    "nltk.download('stopwords')\n",
    "nltk.download('wordnet')\n",
    "\n",
    "def read_data(file_path):\n",
    "    return pd.read_csv(file_path)\n",
    "\n",
    "# Loading dataset\n",
    "file_path = \"fakenews.csv\"\n",
    "data = read_data(file_path)\n",
    "\n",
    "# Ensure the loaded data has the expected structure\n",
    "if 'claim' not in data.columns or 'label' not in data.columns:\n",
    "    raise ValueError(\"The dataset should contain 'claim' and 'label' columns.\")"
   ]
  },
  {
   "cell_type": "code",
   "execution_count": 2,
   "id": "4ec31bc4-34f5-4db6-a9ea-191c4d245f7c",
   "metadata": {},
   "outputs": [
    {
     "name": "stderr",
     "output_type": "stream",
     "text": [
      "/tmp/ipykernel_106210/1172570483.py:6: FutureWarning: The default value of regex will change from True to False in a future version.\n",
      "  data['claim'] = data['claim'].str.replace('[^\\w\\s]', '')  # Remove punctuation\n"
     ]
    }
   ],
   "source": [
    "# Handling Missing Values\n",
    "data['claim'].fillna('', inplace=True)\n",
    "\n",
    "# Text Preprocessing\n",
    "data['claim'] = data['claim'].str.lower()  # Convert text to lowercase\n",
    "data['claim'] = data['claim'].str.replace('[^\\w\\s]', '')  # Remove punctuation\n",
    "data['claim'] = data['claim'].apply(lambda x: x.split())  # Tokenization\n",
    "\n",
    "# Remove Stop Words (optional)\n",
    "stop_words = set(stopwords.words('english'))\n",
    "data['claim'] = data['claim'].apply(lambda x: [word for word in x if word not in stop_words])\n",
    "\n",
    "# Lemmatization (optional)\n",
    "lemmatizer = WordNetLemmatizer()\n",
    "data['claim'] = data['claim'].apply(lambda x: [lemmatizer.lemmatize(word) for word in x])\n",
    "\n",
    "# Convert list of words back to a string\n",
    "data['claim'] = data['claim'].apply(lambda x: ' '.join(x))\n",
    "\n",
    "# Convert label to numeric (TRUE: 1, FALSE: 0)\n",
    "label_encoder = LabelEncoder()\n",
    "data['label'] = label_encoder.fit_transform(data['label'])"
   ]
  },
  {
   "cell_type": "code",
   "execution_count": 5,
   "id": "b7926602-d251-4650-864b-2c9954956a05",
   "metadata": {},
   "outputs": [
    {
     "name": "stdout",
     "output_type": "stream",
     "text": [
      "Accuracy: 0.55\n",
      "Classification Report:\n",
      "              precision    recall  f1-score   support\n",
      "\n",
      "           0       0.65      0.52      0.58        25\n",
      "           1       0.45      0.59      0.51        17\n",
      "\n",
      "    accuracy                           0.55        42\n",
      "   macro avg       0.55      0.55      0.55        42\n",
      "weighted avg       0.57      0.55      0.55        42\n",
      "\n"
     ]
    },
    {
     "data": {
      "image/png": "[encoded data removed]",
      "text/plain": [
       "<Figure size 640x480 with 1 Axes>"
      ]
     },
     "metadata": {},
     "output_type": "display_data"
    }
   ],
   "source": [
    "X_train, X_test, y_train, y_test = train_test_split(data['claim'], data['label'], test_size=0.2, random_state=42)\n",
    "\n",
    "# Convert text data to TF-IDF features\n",
    "tfidf_vectorizer = TfidfVectorizer(max_features=3000, stop_words='english')\n",
    "X_train_tfidf = tfidf_vectorizer.fit_transform(X_train)\n",
    "X_test_tfidf = tfidf_vectorizer.transform(X_test)\n",
    "\n",
    "# Train a Logistic Regression model\n",
    "model = LogisticRegression()\n",
    "model.fit(X_train_tfidf, y_train)\n",
    "\n",
    "# Make predictions on the test set\n",
    "predictions = model.predict(X_test_tfidf)\n",
    "\n",
    "# Evaluate the model\n",
    "accuracy = accuracy_score(y_test, predictions)\n",
    "print(f\"Accuracy: {accuracy:.2f}\")\n",
    "\n",
    "# Display classification report\n",
    "print(\"Classification Report:\")\n",
    "print(classification_report(y_test, predictions))\n",
    "\n",
    "# Visualize the results\n",
    "labels = ['True News', 'Fake News']\n",
    "accuracy_values = [accuracy_score(y_test, predictions), 1 - accuracy_score(y_test, predictions)]\n",
    "\n",
    "plt.bar(labels, accuracy_values, color=['green', 'red'])\n",
    "plt.xlabel('News Type')\n",
    "plt.ylabel('Accuracy')\n",
    "plt.title('Model Accuracy on Test Data')\n",
    "plt.show()"
   ]
  },
  {
   "cell_type": "code",
   "execution_count": null,
   "id": "559b255c-09ae-4df7-8459-3257366ba02b",
   "metadata": {},
   "outputs": [],
   "source": []
  }
 ],
 "metadata": {
  "kernelspec": {
   "display_name": "Python 3 (ipykernel)",
   "language": "python",
   "name": "python3"
  },
  "language_info": {
   "codemirror_mode": {
    "name": "ipython",
    "version": 3
   },
   "file_extension": ".py",
   "mimetype": "text/x-python",
   "name": "python",
   "nbconvert_exporter": "python",
   "pygments_lexer": "ipython3",
   "version": "3.11.6"
  }
 },
 "nbformat": 4,
 "nbformat_minor": 5
}
